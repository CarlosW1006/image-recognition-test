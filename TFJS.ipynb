{
 "cells": [
  {
   "cell_type": "code",
   "execution_count": 1,
   "id": "86b75359",
   "metadata": {},
   "outputs": [],
   "source": [
    "from tensorflow.keras.layers import Conv2D, Flatten ,Dense, MaxPool2D, BatchNormalization, GlobalAveragePooling2D\n",
    "from tensorflow.keras.applications.resnet50 import preprocess_input, decode_predictions\n",
    "from tensorflow.keras.preprocessing.image import ImageDataGenerator, load_img\n",
    "from tensorflow.keras.applications.resnet50 import ResNet50\n",
    "from tensorflow.keras.preprocessing import image\n",
    "from tensorflow.keras.models import Sequential\n",
    "from tensorflow.keras.models import Model\n",
    "import matplotlib as plt\n",
    "import numpy as np\n",
    "\n",
    "import tensorflowjs as tfjs\n",
    "import tensorflow as tf"
   ]
  },
  {
   "cell_type": "code",
   "execution_count": 2,
   "id": "0e8a2652",
   "metadata": {},
   "outputs": [],
   "source": [
    "img_height, img_width = (360, 360)\n",
    "batch_size = 32\n",
    "\n",
    "train_data_dir = r'C:/Users/Carlos/Desktop/wound/processed/train'\n",
    "valid_data_dir = r'C:/Users/Carlos/Desktop/wound/processed/val'\n",
    "test_data_dir = r'C:/Users/Carlos/Desktop/wound/processed/test'"
   ]
  },
  {
   "cell_type": "code",
   "execution_count": 3,
   "id": "d8664178",
   "metadata": {},
   "outputs": [
    {
     "name": "stdout",
     "output_type": "stream",
     "text": [
      "Found 49 images belonging to 6 classes.\n",
      "Found 7 images belonging to 6 classes.\n"
     ]
    }
   ],
   "source": [
    "train_datagen = ImageDataGenerator(\n",
    "    preprocessing_function = preprocess_input, \n",
    "    shear_range = 0.2, \n",
    "    zoom_range = 0.2, \n",
    "    # Data Augmentation\n",
    "    horizontal_flip = True,\n",
    "    vertical_flip = True,\n",
    "    width_shift_range = 0.5,\n",
    "    height_shift_range = 0.5,\n",
    "    rotation_range = 30,\n",
    "    channel_shift_range = 10,\n",
    "    \n",
    "    validation_split = 0.4) # 設定訓練及驗證資料比例\n",
    "\n",
    "train_generator = train_datagen.flow_from_directory(\n",
    "    train_data_dir, \n",
    "    target_size = (img_height, img_width), \n",
    "    batch_size = batch_size, \n",
    "    class_mode = 'categorical', \n",
    "    subset = 'training') # set as a training data\n",
    "\n",
    "valid_generator = train_datagen.flow_from_directory(\n",
    "    valid_data_dir, \n",
    "    target_size = (img_height, img_width), \n",
    "    batch_size = batch_size, \n",
    "    class_mode = 'categorical', \n",
    "    subset = 'validation') # set as validation data"
   ]
  },
  {
   "cell_type": "code",
   "execution_count": 4,
   "id": "a5a9e54c",
   "metadata": {},
   "outputs": [
    {
     "name": "stdout",
     "output_type": "stream",
     "text": [
      "Found 10 images belonging to 6 classes.\n"
     ]
    }
   ],
   "source": [
    "test_generator = train_datagen.flow_from_directory(\n",
    "    test_data_dir, # same directory as training data\n",
    "    target_size = (img_height, img_width), \n",
    "    batch_size = 1, \n",
    "    class_mode = 'categorical', \n",
    "    subset = 'validation') # set as validation data"
   ]
  },
  {
   "cell_type": "code",
   "execution_count": 5,
   "id": "4ebb03f2",
   "metadata": {},
   "outputs": [
    {
     "data": {
      "text/plain": [
       "(1, 360, 360, 3)"
      ]
     },
     "execution_count": 5,
     "metadata": {},
     "output_type": "execute_result"
    }
   ],
   "source": [
    "x,y = test_generator.next()\n",
    "x.shape"
   ]
  },
  {
   "cell_type": "code",
   "execution_count": 6,
   "id": "22d5eaa0",
   "metadata": {},
   "outputs": [
    {
     "name": "stdout",
     "output_type": "stream",
     "text": [
      "Epoch 1/10\n",
      "2/2 [==============================] - 5s 2s/step - loss: 2.4316 - accuracy: 0.3265\n",
      "Epoch 2/10\n",
      "2/2 [==============================] - 2s 1s/step - loss: 3.0861 - accuracy: 0.5714\n",
      "Epoch 3/10\n",
      "2/2 [==============================] - 2s 1s/step - loss: 2.3860 - accuracy: 0.5714\n",
      "Epoch 4/10\n",
      "2/2 [==============================] - 2s 1s/step - loss: 1.2915 - accuracy: 0.6735\n",
      "Epoch 5/10\n",
      "2/2 [==============================] - 2s 1s/step - loss: 0.6556 - accuracy: 0.6939\n",
      "Epoch 6/10\n",
      "2/2 [==============================] - 2s 1s/step - loss: 0.7494 - accuracy: 0.7143\n",
      "Epoch 7/10\n",
      "2/2 [==============================] - 5s 2s/step - loss: 0.2852 - accuracy: 0.8776\n",
      "Epoch 8/10\n",
      "2/2 [==============================] - 2s 1s/step - loss: 0.3696 - accuracy: 0.8776\n",
      "Epoch 9/10\n",
      "2/2 [==============================] - 5s 3s/step - loss: 0.2894 - accuracy: 0.8776\n",
      "Epoch 10/10\n",
      "2/2 [==============================] - 2s 1s/step - loss: 0.2710 - accuracy: 0.9388\n"
     ]
    },
    {
     "data": {
      "text/plain": [
       "<tensorflow.python.keras.callbacks.History at 0x1f902565f40>"
      ]
     },
     "execution_count": 6,
     "metadata": {},
     "output_type": "execute_result"
    }
   ],
   "source": [
    "base_model = ResNet50(include_top = False, weights = 'imagenet')\n",
    "x = base_model.output\n",
    "x = GlobalAveragePooling2D()(x)\n",
    "x = Dense(1024, activation = 'relu')(x)\n",
    "predictions = Dense(train_generator.num_classes, activation = 'softmax')(x)\n",
    "model = Model(inputs = base_model.input, outputs = predictions)\n",
    "\n",
    "for layer in base_model.layers:\n",
    "    layer.trainable = False\n",
    "    \n",
    "model.compile(optimizer = 'adam', loss = 'categorical_crossentropy', metrics = ['accuracy'])\n",
    "\n",
    "model.fit(train_generator, epochs = 10)"
   ]
  },
  {
   "cell_type": "code",
   "execution_count": 9,
   "id": "befa8be8",
   "metadata": {},
   "outputs": [],
   "source": [
    "model.save('C:/Users/Carlos/Desktop/wound/model/models1102.h5')"
   ]
  },
  {
   "cell_type": "code",
   "execution_count": 8,
   "id": "5a9abb32",
   "metadata": {},
   "outputs": [],
   "source": [
    "tfjs.converters.save_keras_model(model, 'C:/Users/Carlos/Desktop/wound/model/models1102')"
   ]
  },
  {
   "cell_type": "code",
   "execution_count": 10,
   "id": "7a8310c5",
   "metadata": {},
   "outputs": [
    {
     "name": "stdout",
     "output_type": "stream",
     "text": [
      "10/10 - 2s - loss: 0.5260 - accuracy: 0.7000\n",
      "\n",
      "Tset accuracy: 0.699999988079071\n"
     ]
    }
   ],
   "source": [
    "test_loss, test_acc = model.evaluate(test_generator, verbose = 2)\n",
    "print('\\nTset accuracy:', test_acc)"
   ]
  },
  {
   "cell_type": "code",
   "execution_count": 13,
   "id": "89333ef5",
   "metadata": {},
   "outputs": [
    {
     "data": {
      "image/png": "[encoded data removed]",
      "text/plain": [
       "<Figure size 432x288 with 2 Axes>"
      ]
     },
     "metadata": {
      "needs_background": "light"
     },
     "output_type": "display_data"
    },
    {
     "name": "stdout",
     "output_type": "stream",
     "text": [
      "test accuracy : 80.0\n"
     ]
    }
   ],
   "source": [
    "import pandas as pd\n",
    "import seaborn as sn\n",
    "import tensorflow as tf\n",
    "import matplotlib.pyplot as plt\n",
    "\n",
    "model = tf.keras.models.load_model('C:/Users/Carlos/Desktop/wound/model/models1102.h5')\n",
    "filenames = test_generator.filenames\n",
    "nb_samples = len(test_generator)\n",
    "y_prob = []\n",
    "y_act = []\n",
    "test_generator.reset()\n",
    "for _ in range(nb_samples):\n",
    "    X_test, Y_test = test_generator.next()\n",
    "    y_prob.append(model.predict(X_test))\n",
    "    y_act.append(Y_test)\n",
    "\n",
    "predicted_class = [list(train_generator.class_indices.keys())[i.argmax()] for i in y_prob]\n",
    "actual_class = [list(train_generator.class_indices.keys())[i.argmax()] for i in y_act]\n",
    "\n",
    "out_df = pd.DataFrame(np.vstack([predicted_class, actual_class]).T, columns = ['predicted_class', 'actual_class'])\n",
    "confusion_matrix = pd.crosstab(out_df['actual_class'], out_df['predicted_class'], rownames = ['Actual'], colnames = ['Predicted'])\n",
    "\n",
    "sn.heatmap(confusion_matrix, cmap = 'Purples', annot = True, fmt = 'd')\n",
    "plt.show()\n",
    "print('test accuracy : {}'.format((np.diagonal(confusion_matrix).sum()/confusion_matrix.sum().sum()*100)))"
   ]
  },
  {
   "cell_type": "code",
   "execution_count": null,
   "id": "0b640ea6",
   "metadata": {},
   "outputs": [],
   "source": []
  }
 ],
 "metadata": {
  "kernelspec": {
   "display_name": "Python 3 (ipykernel)",
   "language": "python",
   "name": "python3"
  },
  "language_info": {
   "codemirror_mode": {
    "name": "ipython",
    "version": 3
   },
   "file_extension": ".py",
   "mimetype": "text/x-python",
   "name": "python",
   "nbconvert_exporter": "python",
   "pygments_lexer": "ipython3",
   "version": "3.8.13"
  }
 },
 "nbformat": 4,
 "nbformat_minor": 5
}
