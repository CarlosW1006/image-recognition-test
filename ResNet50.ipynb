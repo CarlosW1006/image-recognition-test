{
 "cells": [
  {
   "cell_type": "code",
   "execution_count": 1,
   "id": "86b75359",
   "metadata": {},
   "outputs": [],
   "source": [
    "from tensorflow.keras.layers import Conv2D, Flatten ,Dense, MaxPool2D, BatchNormalization, GlobalAveragePooling2D\n",
    "from tensorflow.keras.applications.resnet50 import preprocess_input, decode_predictions\n",
    "from tensorflow.keras.preprocessing.image import ImageDataGenerator, load_img\n",
    "from tensorflow.keras.applications.resnet50 import ResNet50\n",
    "from tensorflow.keras.preprocessing import image\n",
    "from tensorflow.keras.models import Sequential\n",
    "from tensorflow.keras.models import Model\n",
    "import matplotlib as plt\n",
    "import numpy as np"
   ]
  },
  {
   "cell_type": "code",
   "execution_count": 2,
   "id": "0e8a2652",
   "metadata": {},
   "outputs": [],
   "source": [
    "img_height, img_width = (360, 360)\n",
    "batch_size = 32\n",
    "\n",
    "train_data_dir = r'C:/Users/Carlos/Desktop/doggy/processed/train'\n",
    "valid_data_dir = r'C:/Users/Carlos/Desktop/doggy/processed/val'\n",
    "test_data_dir = r'C:/Users/Carlos/Desktop/doggy/processed/test'"
   ]
  },
  {
   "cell_type": "code",
   "execution_count": 3,
   "id": "d8664178",
   "metadata": {},
   "outputs": [
    {
     "name": "stdout",
     "output_type": "stream",
     "text": [
      "Found 90 images belonging to 5 classes.\n",
      "Found 20 images belonging to 5 classes.\n"
     ]
    }
   ],
   "source": [
    "train_datagen = ImageDataGenerator(\n",
    "    preprocessing_function = preprocess_input, \n",
    "    shear_range = 0.2, \n",
    "    zoom_range = 0.2, \n",
    "    horizontal_flip = True, \n",
    "    validation_split = 0.4)\n",
    "\n",
    "train_generator = train_datagen.flow_from_directory(\n",
    "    train_data_dir, \n",
    "    target_size = (img_height, img_width), \n",
    "    batch_size = batch_size, \n",
    "    class_mode = 'categorical', \n",
    "    subset = 'training') # set as a training data\n",
    "\n",
    "valid_generator = train_datagen.flow_from_directory(\n",
    "    valid_data_dir, \n",
    "    target_size = (img_height, img_width), \n",
    "    batch_size = batch_size, \n",
    "    class_mode = 'categorical', \n",
    "    subset = 'validation') # set as validation data\n"
   ]
  },
  {
   "cell_type": "code",
   "execution_count": 4,
   "id": "a5a9e54c",
   "metadata": {},
   "outputs": [
    {
     "name": "stdout",
     "output_type": "stream",
     "text": [
      "Found 20 images belonging to 5 classes.\n"
     ]
    }
   ],
   "source": [
    "test_generator = train_datagen.flow_from_directory(\n",
    "    test_data_dir, # same directory as training data\n",
    "    target_size = (img_height, img_width), \n",
    "    batch_size = 1, \n",
    "    class_mode = 'categorical', \n",
    "    subset = 'validation') #set as validation data"
   ]
  },
  {
   "cell_type": "code",
   "execution_count": 5,
   "id": "4ebb03f2",
   "metadata": {},
   "outputs": [
    {
     "data": {
      "text/plain": [
       "(1, 360, 360, 3)"
      ]
     },
     "execution_count": 5,
     "metadata": {},
     "output_type": "execute_result"
    }
   ],
   "source": [
    "x,y = test_generator.next()\n",
    "x.shape"
   ]
  },
  {
   "cell_type": "code",
   "execution_count": 6,
   "id": "22d5eaa0",
   "metadata": {},
   "outputs": [
    {
     "name": "stdout",
     "output_type": "stream",
     "text": [
      "Epoch 1/10\n",
      "3/3 [==============================] - 9s 3s/step - loss: 2.5310 - accuracy: 0.2556\n",
      "Epoch 2/10\n",
      "3/3 [==============================] - 10s 3s/step - loss: 0.8200 - accuracy: 0.7222\n",
      "Epoch 3/10\n",
      "3/3 [==============================] - 9s 3s/step - loss: 0.3898 - accuracy: 0.8333\n",
      "Epoch 4/10\n",
      "3/3 [==============================] - 11s 4s/step - loss: 0.0906 - accuracy: 0.9667\n",
      "Epoch 5/10\n",
      "3/3 [==============================] - 10s 3s/step - loss: 0.0748 - accuracy: 0.9778\n",
      "Epoch 6/10\n",
      "3/3 [==============================] - 10s 3s/step - loss: 0.0498 - accuracy: 0.9889\n",
      "Epoch 7/10\n",
      "3/3 [==============================] - 10s 3s/step - loss: 0.0322 - accuracy: 0.9889\n",
      "Epoch 8/10\n",
      "3/3 [==============================] - 10s 3s/step - loss: 0.0106 - accuracy: 1.0000\n",
      "Epoch 9/10\n",
      "3/3 [==============================] - 12s 4s/step - loss: 0.0088 - accuracy: 1.0000\n",
      "Epoch 10/10\n",
      "3/3 [==============================] - 10s 3s/step - loss: 0.0031 - accuracy: 1.0000\n"
     ]
    },
    {
     "data": {
      "text/plain": [
       "<tensorflow.python.keras.callbacks.History at 0x1a3c845cfd0>"
      ]
     },
     "execution_count": 6,
     "metadata": {},
     "output_type": "execute_result"
    }
   ],
   "source": [
    "base_model = ResNet50(include_top = False, weights = 'imagenet')\n",
    "x = base_model.output\n",
    "x = GlobalAveragePooling2D()(x)\n",
    "x = Dense(1024, activation = 'relu')(x)\n",
    "predictions = Dense(train_generator.num_classes, activation = 'softmax')(x)\n",
    "model = Model(inputs = base_model.input, outputs = predictions)\n",
    "\n",
    "for layer in base_model.layers:\n",
    "    layer.trainable = False\n",
    "    \n",
    "model.compile(optimizer = 'adam', loss = 'categorical_crossentropy', metrics = ['accuracy'])\n",
    "\n",
    "model.fit(train_generator, epochs = 10)"
   ]
  },
  {
   "cell_type": "code",
   "execution_count": 7,
   "id": "befa8be8",
   "metadata": {},
   "outputs": [],
   "source": [
    "model.save('C:/Users/Carlos/Desktop/doggy/model/ResNet50_doggy.h5')"
   ]
  },
  {
   "cell_type": "code",
   "execution_count": 8,
   "id": "7a8310c5",
   "metadata": {},
   "outputs": [
    {
     "name": "stdout",
     "output_type": "stream",
     "text": [
      "20/20 - 3s - loss: 0.0073 - accuracy: 1.0000\n",
      "\n",
      "Tset accuracy: 1.0\n"
     ]
    }
   ],
   "source": [
    "test_loss, test_acc = model.evaluate(test_generator, verbose = 2)\n",
    "print('\\nTset accuracy:', test_acc)"
   ]
  },
  {
   "cell_type": "code",
   "execution_count": 9,
   "id": "89333ef5",
   "metadata": {},
   "outputs": [
    {
     "data": {
      "image/png": "[encoded data removed]",
      "text/plain": [
       "<Figure size 432x288 with 2 Axes>"
      ]
     },
     "metadata": {
      "needs_background": "light"
     },
     "output_type": "display_data"
    },
    {
     "name": "stdout",
     "output_type": "stream",
     "text": [
      "test accuracy : 100.0\n"
     ]
    }
   ],
   "source": [
    "import pandas as pd\n",
    "import seaborn as sn\n",
    "import tensorflow as tf\n",
    "import matplotlib.pyplot as plt\n",
    "\n",
    "model = tf.keras.models.load_model('C:/Users/Carlos/Desktop/doggy/model/ResNet50_doggy.h5')\n",
    "filenames = test_generator.filenames\n",
    "nb_samples = len(test_generator)\n",
    "y_prob = []\n",
    "y_act = []\n",
    "test_generator.reset()\n",
    "for _ in range(nb_samples):\n",
    "    X_test, Y_test = test_generator.next()\n",
    "    y_prob.append(model.predict(X_test))\n",
    "    y_act.append(Y_test)\n",
    "\n",
    "predicted_class = [list(train_generator.class_indices.keys())[i.argmax()] for i in y_prob]\n",
    "actual_class = [list(train_generator.class_indices.keys())[i.argmax()] for i in y_act]\n",
    "\n",
    "out_df = pd.DataFrame(np.vstack([predicted_class, actual_class]).T, columns = ['predicted_class', 'actual_class'])\n",
    "confusion_matrix = pd.crosstab(out_df['actual_class'], out_df['predicted_class'], rownames = ['Actual'], colnames = ['Predicted'])\n",
    "\n",
    "sn.heatmap(confusion_matrix, cmap = 'Purples', annot = True, fmt = 'd')\n",
    "plt.show()\n",
    "print('test accuracy : {}'.format((np.diagonal(confusion_matrix).sum()/confusion_matrix.sum().sum()*100)))"
   ]
  },
  {
   "cell_type": "code",
   "execution_count": null,
   "id": "9175059d",
   "metadata": {},
   "outputs": [],
   "source": []
  }
 ],
 "metadata": {
  "kernelspec": {
   "display_name": "Python 3 (ipykernel)",
   "language": "python",
   "name": "python3"
  },
  "language_info": {
   "codemirror_mode": {
    "name": "ipython",
    "version": 3
   },
   "file_extension": ".py",
   "mimetype": "text/x-python",
   "name": "python",
   "nbconvert_exporter": "python",
   "pygments_lexer": "ipython3",
   "version": "3.8.13"
  }
 },
 "nbformat": 4,
 "nbformat_minor": 5
}
