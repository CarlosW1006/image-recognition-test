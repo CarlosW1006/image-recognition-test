{
 "cells": [
  {
   "cell_type": "code",
   "execution_count": 1,
   "id": "6920eba3",
   "metadata": {},
   "outputs": [
    {
     "name": "stdout",
     "output_type": "stream",
     "text": [
      "[[6.8317041e-07 4.1166416e-07 2.7603382e-06 7.2922326e-06 9.9998879e-01]]\n",
      "[4]\n"
     ]
    }
   ],
   "source": [
    "import cv2\n",
    "import tensorflow as tf\n",
    "import numpy as np\n",
    "from keras.models import load_model\n",
    "\n",
    "model = load_model('C:/Users/Carlos/Desktop/doggy/model/models.h5')\n",
    "\n",
    "img = cv2.imread('C:/Users/Carlos/Desktop/stay/test/123.jpg')\n",
    "img = cv2.resize(img, (360, 360))\n",
    "img = np.reshape(img, [1, 360, 360, 3])\n",
    "\n",
    "prediction = model.predict(img)\n",
    "print(prediction)\n",
    "print(np.argmax(model.predict(img), axis=1))\n"
   ]
  },
  {
   "cell_type": "code",
   "execution_count": null,
   "id": "bcb3f78c",
   "metadata": {},
   "outputs": [],
   "source": []
  }
 ],
 "metadata": {
  "kernelspec": {
   "display_name": "Python 3 (ipykernel)",
   "language": "python",
   "name": "python3"
  },
  "language_info": {
   "codemirror_mode": {
    "name": "ipython",
    "version": 3
   },
   "file_extension": ".py",
   "mimetype": "text/x-python",
   "name": "python",
   "nbconvert_exporter": "python",
   "pygments_lexer": "ipython3",
   "version": "3.8.13"
  }
 },
 "nbformat": 4,
 "nbformat_minor": 5
}
